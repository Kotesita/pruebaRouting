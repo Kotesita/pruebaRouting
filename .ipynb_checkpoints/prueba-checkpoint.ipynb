{
 "cells": [
  {
   "cell_type": "code",
   "execution_count": 25,
   "metadata": {},
   "outputs": [],
   "source": [
    "import math\n",
    "import numpy as np"
   ]
  },
  {
   "cell_type": "code",
   "execution_count": 26,
   "metadata": {},
   "outputs": [],
   "source": [
    "def readFile(archivo):\n",
    "    file = open(archivo, \"r\")\n",
    "\n",
    "    f1 = file.readlines()\n",
    "    lista = []\n",
    "    for x in f1:\n",
    "        x = x.replace('\\n','')\n",
    "        lista.append(x)\n",
    "    return(lista)"
   ]
  },
  {
   "cell_type": "code",
   "execution_count": 27,
   "metadata": {},
   "outputs": [
    {
     "name": "stdout",
     "output_type": "stream",
     "text": [
      "['4', '1 2 3', '6 2 3', '10 2 3', '16 3 4']\n"
     ]
    }
   ],
   "source": [
    "file = readFile(\"icpc2019data/K-trafficblights/sample-1.in\")\n",
    "print(file)"
   ]
  },
  {
   "cell_type": "code",
   "execution_count": 28,
   "metadata": {},
   "outputs": [],
   "source": [
    "def normalizar(data):\n",
    "    position=[]\n",
    "    redlights=[]\n",
    "    greenlights=[]\n",
    "    periodoNormal=[]\n",
    "    for i in range(1,len(data)):\n",
    "        tl = data[i].split(' ')\n",
    "        position.append(int(tl[0]))\n",
    "        redlights.append(int(tl[1]))\n",
    "        greenlights.append(int(tl[2]))\n",
    "        \n",
    "    for j in range(len(data)-1):\n",
    "        periodo = int(redlights[j])+int(greenlights[j])\n",
    "        periodoNormal.append(periodo/math.gcd(periodo,2520))\n",
    "    return(position,redlights,greenlights,periodoNormal)"
   ]
  },
  {
   "cell_type": "code",
   "execution_count": 29,
   "metadata": {},
   "outputs": [
    {
     "data": {
      "text/plain": [
       "([1, 6, 10, 16], [2, 2, 2, 3], [3, 3, 3, 4], [1.0, 1.0, 1.0, 1.0])"
      ]
     },
     "execution_count": 29,
     "metadata": {},
     "output_type": "execute_result"
    }
   ],
   "source": [
    "normalizar(file)"
   ]
  },
  {
   "cell_type": "code",
   "execution_count": 30,
   "metadata": {},
   "outputs": [],
   "source": [
    "pos,luzroja,luzverde,periodo=normalizar(file)"
   ]
  },
  {
   "cell_type": "code",
   "execution_count": 41,
   "metadata": {},
   "outputs": [],
   "source": [
    "def proba(rl, gl):\n",
    "    a_n = np.zeros(len(rl))\n",
    "    p = np.zeros(len(rl))\n",
    "    a_n[0]=rl[0]/(rl[0]+gl[0])\n",
    "    p_acum=a_n[0]\n",
    "    for i in range(1,len(rl)):\n",
    "        p[i]=rl[i]/(rl[i]+gl[i])\n",
    "        a_n[i]=p[i]*a_n[i-1]+(1-p[i])*(1-a_n[i-1])\n",
    "        p_acum*=a_n[i]\n",
    "    return(a_n,p_acum)"
   ]
  },
  {
   "cell_type": "code",
   "execution_count": 42,
   "metadata": {},
   "outputs": [
    {
     "data": {
      "text/plain": [
       "(array([0.4       , 0.52      , 0.496     , 0.50057143]), 0.05164295314285715)"
      ]
     },
     "execution_count": 42,
     "metadata": {},
     "output_type": "execute_result"
    }
   ],
   "source": [
    "proba(luzroja,luzverde)"
   ]
  },
  {
   "cell_type": "code",
   "execution_count": null,
   "metadata": {},
   "outputs": [],
   "source": []
  }
 ],
 "metadata": {
  "kernelspec": {
   "display_name": "Python 3",
   "language": "python",
   "name": "python3"
  },
  "language_info": {
   "codemirror_mode": {
    "name": "ipython",
    "version": 3
   },
   "file_extension": ".py",
   "mimetype": "text/x-python",
   "name": "python",
   "nbconvert_exporter": "python",
   "pygments_lexer": "ipython3",
   "version": "3.7.4"
  }
 },
 "nbformat": 4,
 "nbformat_minor": 2
}
