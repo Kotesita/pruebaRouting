{
 "cells": [
  {
   "cell_type": "code",
   "execution_count": 158,
   "metadata": {},
   "outputs": [],
   "source": [
    "import math"
   ]
  },
  {
   "cell_type": "code",
   "execution_count": 60,
   "metadata": {},
   "outputs": [],
   "source": [
    "def readFile(archivo):\n",
    "    file = open(archivo, \"r\")\n",
    "\n",
    "    f1 = file.readlines()\n",
    "    lista = []\n",
    "    for x in f1:\n",
    "        x = x.replace('\\n','')\n",
    "        lista.append(x)\n",
    "    return(lista)"
   ]
  },
  {
   "cell_type": "code",
   "execution_count": 192,
   "metadata": {},
   "outputs": [
    {
     "name": "stdout",
     "output_type": "stream",
     "text": [
      "['6', '4 1 5', '9 8 7', '13 3 5', '21 5 7', '30 9 1', '2019 20 0']\n"
     ]
    }
   ],
   "source": [
    "file = readFile(\"icpc2019data/K-trafficblights/sample-2.in\")\n",
    "print(file)"
   ]
  },
  {
   "cell_type": "code",
   "execution_count": 193,
   "metadata": {},
   "outputs": [],
   "source": [
    "def normalizar(data):\n",
    "    position=[]\n",
    "    redlights=[]\n",
    "    greenlights=[]\n",
    "    periodoNormal=[]\n",
    "    for i in range(1,len(data)):\n",
    "        tl = data[i].split(' ')\n",
    "        position.append(tl[0])\n",
    "        redlights.append(tl[1])\n",
    "        greenlights.append(tl[2])\n",
    "        \n",
    "    for j in range(len(data)-1):\n",
    "        periodo = int(redlights[j])+int(greenlights[j])\n",
    "        periodoNormal.append(periodo/math.gcd(periodo,2520))\n",
    "    return(position,periodoNormal)"
   ]
  },
  {
   "cell_type": "code",
   "execution_count": 194,
   "metadata": {},
   "outputs": [
    {
     "data": {
      "text/plain": [
       "(['4', '9', '13', '21', '30', '2019'], [1.0, 1.0, 1.0, 1.0, 1.0, 1.0])"
      ]
     },
     "execution_count": 194,
     "metadata": {},
     "output_type": "execute_result"
    }
   ],
   "source": [
    "normalizar(file)"
   ]
  },
  {
   "cell_type": "code",
   "execution_count": null,
   "metadata": {},
   "outputs": [],
   "source": []
  }
 ],
 "metadata": {
  "kernelspec": {
   "display_name": "Python 3",
   "language": "python",
   "name": "python3"
  },
  "language_info": {
   "codemirror_mode": {
    "name": "ipython",
    "version": 3
   },
   "file_extension": ".py",
   "mimetype": "text/x-python",
   "name": "python",
   "nbconvert_exporter": "python",
   "pygments_lexer": "ipython3",
   "version": "3.7.3"
  }
 },
 "nbformat": 4,
 "nbformat_minor": 2
}
